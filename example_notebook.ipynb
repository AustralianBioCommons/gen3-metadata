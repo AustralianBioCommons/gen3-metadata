{
 "cells": [
  {
   "cell_type": "markdown",
   "metadata": {},
   "source": [
    "# Example Workflow\n",
    "- Make sure to run `bash build.sh` or follow the instructions in the README.md to build the package\n",
    "- Make sure to select .venv as the kernel in the notebook"
   ]
  },
  {
   "cell_type": "code",
   "execution_count": 1,
   "metadata": {},
   "outputs": [],
   "source": [
    "import gen3_metadata\n",
    "from gen3_metadata.gen3_metadata_parser import Gen3MetadataParser"
   ]
  },
  {
   "cell_type": "code",
   "execution_count": 2,
   "metadata": {},
   "outputs": [],
   "source": [
    "# Load credentiaals path from .env\n",
    "import os\n",
    "from dotenv import load_dotenv\n",
    "from gen3_metadata.gen3_metadata_parser import Gen3MetadataParser\n",
    "load_dotenv()\n",
    "key_file = os.getenv('credentials_path')"
   ]
  },
  {
   "cell_type": "code",
   "execution_count": null,
   "metadata": {},
   "outputs": [],
   "source": [
    "# Or define credentials path in this notebook\n",
    "key_file = \"path/to/credentials.json\""
   ]
  },
  {
   "cell_type": "code",
   "execution_count": null,
   "metadata": {},
   "outputs": [],
   "source": [
    "# Autheticating\n",
    "gen3metadata = Gen3MetadataParser(key_file)\n",
    "gen3metadata.authenticate()"
   ]
  },
  {
   "cell_type": "code",
   "execution_count": null,
   "metadata": {},
   "outputs": [],
   "source": [
    "# fetching data\n",
    "program_name= \"program1\"\n",
    "project_code= \"AusDiab_Simulated\"\n",
    "\n",
    "gen3metadata.fetch_data(program_name, project_code, node_label= \"subject\")\n",
    "gen3metadata.fetch_data(program_name, project_code, node_label= \"demographic\")\n",
    "gen3metadata.fetch_data(program_name, project_code, node_label= \"exposure\")\n",
    "gen3metadata.fetch_data(program_name, project_code, node_label= \"lab_result\")\n",
    "gen3metadata.fetch_data(program_name, project_code, node_label= \"medical_history\")\n",
    "gen3metadata.fetch_data(program_name, project_code, node_label= \"medication\")\n",
    "gen3metadata.fetch_data(program_name, project_code, node_label= \"blood_pressure_test\")\n",
    "\n",
    "gen3metadata.data_to_pd()"
   ]
  },
  {
   "cell_type": "code",
   "execution_count": null,
   "metadata": {},
   "outputs": [],
   "source": [
    "gen3metadata.data_store[\"program1/AusDiab_Simulated/demographic\"]"
   ]
  }
 ],
 "metadata": {
  "kernelspec": {
   "display_name": ".venv",
   "language": "python",
   "name": "python3"
  },
  "language_info": {
   "codemirror_mode": {
    "name": "ipython",
    "version": 3
   },
   "file_extension": ".py",
   "mimetype": "text/x-python",
   "name": "python",
   "nbconvert_exporter": "python",
   "pygments_lexer": "ipython3",
   "version": "3.9.5"
  }
 },
 "nbformat": 4,
 "nbformat_minor": 2
}
