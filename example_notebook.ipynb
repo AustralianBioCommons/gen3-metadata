{
 "cells": [
  {
   "cell_type": "markdown",
   "metadata": {},
   "source": [
    "# Example Workflow\n",
    "- Make sure to run `bash build.sh` or follow the instructions in the README.md to build the package\n",
    "- Make sure to select .venv as the kernel in the notebook"
   ]
  },
  {
   "cell_type": "code",
   "execution_count": 1,
   "metadata": {},
   "outputs": [],
   "source": [
    "import gen3_metadata\n",
    "from gen3_metadata.gen3_metadata_parser import Gen3MetadataParser"
   ]
  },
  {
   "cell_type": "code",
   "execution_count": null,
   "metadata": {},
   "outputs": [],
   "source": [
    "# initializing the class\n",
    "key_file = \"path/to/gen3/credentials.json\"\n",
    "gen3metadata = Gen3MetadataParser(key_file)"
   ]
  },
  {
   "cell_type": "code",
   "execution_count": null,
   "metadata": {},
   "outputs": [],
   "source": [
    "# Authenticating\n",
    "gen3metadata.authenticate()"
   ]
  },
  {
   "cell_type": "code",
   "execution_count": null,
   "metadata": {},
   "outputs": [],
   "source": [
    "# fetching data\n",
    "program_name= \"program1\"\n",
    "project_code= \"project1\"\n",
    "\n",
    "gen3metadata.fetch_data(program_name, project_code, node_label= \"subject\")\n",
    "gen3metadata.fetch_data(program_name, project_code, node_label= \"demographic\")\n",
    "gen3metadata.fetch_data(program_name, project_code, node_label= \"exposure\")\n",
    "gen3metadata.fetch_data(program_name, project_code, node_label= \"lab_result\")\n",
    "gen3metadata.fetch_data(program_name, project_code, node_label= \"medical_history\")\n",
    "gen3metadata.fetch_data(program_name, project_code, node_label= \"medication\")\n",
    "gen3metadata.fetch_data(program_name, project_code, node_label= \"blood_pressure_test\")\n",
    "\n",
    "gen3metadata.data_to_pd()"
   ]
  },
  {
   "cell_type": "code",
   "execution_count": null,
   "metadata": {},
   "outputs": [],
   "source": [
    "# View demographic pandas data frame\n",
    "gen3metadata.data_store_pd[f\"{program_name}/{project_code}/demographic\"]"
   ]
  },
  {
   "cell_type": "code",
   "execution_count": null,
   "metadata": {},
   "outputs": [],
   "source": [
    "# View demographic json data\n",
    "gen3metadata.data_store[f\"{program_name}/{project_code}/demographic\"]"
   ]
  }
 ],
 "metadata": {
  "kernelspec": {
   "display_name": ".venv",
   "language": "python",
   "name": "python3"
  },
  "language_info": {
   "codemirror_mode": {
    "name": "ipython",
    "version": 3
   },
   "file_extension": ".py",
   "mimetype": "text/x-python",
   "name": "python",
   "nbconvert_exporter": "python",
   "pygments_lexer": "ipython3",
   "version": "3.9.5"
  }
 },
 "nbformat": 4,
 "nbformat_minor": 2
}
