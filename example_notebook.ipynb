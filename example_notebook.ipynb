{
 "cells": [
  {
   "cell_type": "markdown",
   "metadata": {},
   "source": [
    "# Example Workflow\n",
    "- Make sure to run `bash build.sh` or follow the instructions in the README.md to build the package\n",
    "- Make sure to select .venv as the kernel in the notebook"
   ]
  },
  {
   "cell_type": "code",
   "execution_count": 7,
   "metadata": {},
   "outputs": [
    {
     "data": {
      "text/plain": [
       "<Logger gen3_metadata (INFO)>"
      ]
     },
     "execution_count": 7,
     "metadata": {},
     "output_type": "execute_result"
    }
   ],
   "source": [
    "from gen3_metadata.logger import setup_logger\n",
    "from gen3_metadata.gen3_metadata_parser import Gen3MetadataParser\n",
    "setup_logger()"
   ]
  },
  {
   "cell_type": "code",
   "execution_count": 8,
   "metadata": {},
   "outputs": [],
   "source": [
    "# Initialise\n",
    "key_file = \"path/to/credentials.json\"\n",
    "gen3metadata = Gen3MetadataParser(key_file)"
   ]
  },
  {
   "cell_type": "code",
   "execution_count": 9,
   "metadata": {},
   "outputs": [
    {
     "name": "stdout",
     "output_type": "stream",
     "text": [
      "File not found: [Errno 2] No such file or directory: 'path/to/credentials.json'\n",
      "An unexpected error occurred during authentication: [Errno 2] No such file or directory: 'path/to/credentials.json'\n",
      "Unexpected exception formatting exception. Falling back to standard exception\n"
     ]
    },
    {
     "name": "stderr",
     "output_type": "stream",
     "text": [
      "Traceback (most recent call last):\n",
      "  File \"/Users/harrijh/projects/gen3-metadata/.venv/lib/python3.9/site-packages/IPython/core/interactiveshell.py\", line 3550, in run_code\n",
      "  File \"/var/folders/h1/smw4rryj4zs361v4bw9qqc0c0000gn/T/ipykernel_58301/122813687.py\", line 2, in <module>\n",
      "    gen3metadata.authenticate()\n",
      "  File \"/Users/harrijh/projects/gen3-metadata/src/gen3metadata/gen3_metadata_parser.py\", line 110, in authenticate\n",
      "    key = self._load_api_key()\n",
      "  File \"/Users/harrijh/projects/gen3-metadata/src/gen3metadata/gen3_metadata_parser.py\", line 60, in _load_api_key\n",
      "    with open(self.key_file_path, \"r\") as f:\n",
      "FileNotFoundError: [Errno 2] No such file or directory: 'path/to/credentials.json'\n",
      "\n",
      "During handling of the above exception, another exception occurred:\n",
      "\n",
      "Traceback (most recent call last):\n",
      "  File \"/Users/harrijh/projects/gen3-metadata/.venv/lib/python3.9/site-packages/pygments/styles/__init__.py\", line 45, in get_style_by_name\n",
      "ModuleNotFoundError: No module named 'pygments.styles.default'\n",
      "\n",
      "During handling of the above exception, another exception occurred:\n",
      "\n",
      "Traceback (most recent call last):\n",
      "  File \"/Users/harrijh/projects/gen3-metadata/.venv/lib/python3.9/site-packages/IPython/core/interactiveshell.py\", line 2144, in showtraceback\n",
      "  File \"/Users/harrijh/projects/gen3-metadata/.venv/lib/python3.9/site-packages/IPython/core/ultratb.py\", line 1435, in structured_traceback\n",
      "  File \"/Users/harrijh/projects/gen3-metadata/.venv/lib/python3.9/site-packages/IPython/core/ultratb.py\", line 1326, in structured_traceback\n",
      "  File \"/Users/harrijh/projects/gen3-metadata/.venv/lib/python3.9/site-packages/IPython/core/ultratb.py\", line 1173, in structured_traceback\n",
      "  File \"/Users/harrijh/projects/gen3-metadata/.venv/lib/python3.9/site-packages/IPython/core/ultratb.py\", line 1063, in format_exception_as_a_whole\n",
      "  File \"/Users/harrijh/projects/gen3-metadata/.venv/lib/python3.9/site-packages/IPython/core/ultratb.py\", line 1114, in get_records\n",
      "  File \"/Users/harrijh/projects/gen3-metadata/.venv/lib/python3.9/site-packages/pygments/styles/__init__.py\", line 47, in get_style_by_name\n",
      "pygments.util.ClassNotFound: Could not find style module 'pygments.styles.default', though it should be builtin.\n"
     ]
    }
   ],
   "source": [
    "# Authenticate\n",
    "gen3metadata.authenticate()"
   ]
  },
  {
   "cell_type": "code",
   "execution_count": 10,
   "metadata": {},
   "outputs": [
    {
     "name": "stdout",
     "output_type": "stream",
     "text": [
      "File not found: [Errno 2] No such file or directory: 'path/to/credentials.json'\n",
      "An error occurred: [Errno 2] No such file or directory: 'path/to/credentials.json'\n",
      "Unexpected exception formatting exception. Falling back to standard exception\n"
     ]
    },
    {
     "name": "stderr",
     "output_type": "stream",
     "text": [
      "Traceback (most recent call last):\n",
      "  File \"/Users/harrijh/projects/gen3-metadata/.venv/lib/python3.9/site-packages/IPython/core/interactiveshell.py\", line 3550, in run_code\n",
      "  File \"/var/folders/h1/smw4rryj4zs361v4bw9qqc0c0000gn/T/ipykernel_58301/3932466949.py\", line 4, in <module>\n",
      "    gen3metadata.fetch_data_pd(program_name, project_code, node_label= \"medical_history\")\n",
      "  File \"/Users/harrijh/projects/gen3-metadata/src/gen3metadata/gen3_metadata_parser.py\", line 256, in fetch_data_pd\n",
      "    data = self.fetch_data(program_name, project_code, node_label, api_version=api_version, return_data=True)\n",
      "  File \"/Users/harrijh/projects/gen3-metadata/src/gen3metadata/gen3_metadata_parser.py\", line 185, in fetch_data\n",
      "    creds = self._load_api_key()\n",
      "  File \"/Users/harrijh/projects/gen3-metadata/src/gen3metadata/gen3_metadata_parser.py\", line 60, in _load_api_key\n",
      "    with open(self.key_file_path, \"r\") as f:\n",
      "FileNotFoundError: [Errno 2] No such file or directory: 'path/to/credentials.json'\n",
      "\n",
      "During handling of the above exception, another exception occurred:\n",
      "\n",
      "Traceback (most recent call last):\n",
      "  File \"/Users/harrijh/projects/gen3-metadata/.venv/lib/python3.9/site-packages/pygments/styles/__init__.py\", line 45, in get_style_by_name\n",
      "ModuleNotFoundError: No module named 'pygments.styles.default'\n",
      "\n",
      "During handling of the above exception, another exception occurred:\n",
      "\n",
      "Traceback (most recent call last):\n",
      "  File \"/Users/harrijh/projects/gen3-metadata/.venv/lib/python3.9/site-packages/IPython/core/interactiveshell.py\", line 2144, in showtraceback\n",
      "  File \"/Users/harrijh/projects/gen3-metadata/.venv/lib/python3.9/site-packages/IPython/core/ultratb.py\", line 1435, in structured_traceback\n",
      "  File \"/Users/harrijh/projects/gen3-metadata/.venv/lib/python3.9/site-packages/IPython/core/ultratb.py\", line 1326, in structured_traceback\n",
      "  File \"/Users/harrijh/projects/gen3-metadata/.venv/lib/python3.9/site-packages/IPython/core/ultratb.py\", line 1173, in structured_traceback\n",
      "  File \"/Users/harrijh/projects/gen3-metadata/.venv/lib/python3.9/site-packages/IPython/core/ultratb.py\", line 1063, in format_exception_as_a_whole\n",
      "  File \"/Users/harrijh/projects/gen3-metadata/.venv/lib/python3.9/site-packages/IPython/core/ultratb.py\", line 1114, in get_records\n",
      "  File \"/Users/harrijh/projects/gen3-metadata/.venv/lib/python3.9/site-packages/pygments/styles/__init__.py\", line 47, in get_style_by_name\n",
      "pygments.util.ClassNotFound: Could not find style module 'pygments.styles.default', though it should be builtin.\n"
     ]
    }
   ],
   "source": [
    "# fetching data and returning as dataframe\n",
    "program_name= \"program1\"\n",
    "project_code= \"AusDiab_Simulated\"\n",
    "gen3metadata.fetch_data_pd(program_name, project_code, node_label= \"medical_history\")"
   ]
  },
  {
   "cell_type": "code",
   "execution_count": null,
   "metadata": {},
   "outputs": [],
   "source": [
    "# fetching data and returning as json\n",
    "gen3metadata.fetch_data_json(program_name, project_code, node_label= \"medical_history\")"
   ]
  }
 ],
 "metadata": {
  "kernelspec": {
   "display_name": ".venv",
   "language": "python",
   "name": "python3"
  },
  "language_info": {
   "codemirror_mode": {
    "name": "ipython",
    "version": 3
   },
   "file_extension": ".py",
   "mimetype": "text/x-python",
   "name": "python",
   "nbconvert_exporter": "python",
   "pygments_lexer": "ipython3",
   "version": "3.9.5"
  }
 },
 "nbformat": 4,
 "nbformat_minor": 2
}
