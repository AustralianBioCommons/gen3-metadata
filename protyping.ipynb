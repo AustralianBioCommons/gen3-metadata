{
 "cells": [
  {
   "cell_type": "markdown",
   "metadata": {},
   "source": [
    "# testing and prototyping"
   ]
  },
  {
   "cell_type": "code",
   "execution_count": 1,
   "metadata": {},
   "outputs": [],
   "source": [
    "import gen3_metadata\n",
    "from gen3_metadata.parser import Gen3MetadataParser"
   ]
  },
  {
   "cell_type": "code",
   "execution_count": 2,
   "metadata": {},
   "outputs": [
    {
     "name": "stdout",
     "output_type": "stream",
     "text": [
      "status code: 200\n",
      "Data for program1/AusDiab_Simulated/subject has been fetched and stored.\n",
      "status code: 200\n",
      "Data for program1/AusDiab_Simulated/demographic has been fetched and stored.\n",
      "status code: 200\n",
      "Data for program1/AusDiab_Simulated/medical_history has been fetched and stored.\n",
      "Converting program1/AusDiab_Simulated/subject to pandas dataframe...\n",
      "Converting program1/AusDiab_Simulated/demographic to pandas dataframe...\n",
      "Converting program1/AusDiab_Simulated/medical_history to pandas dataframe...\n"
     ]
    }
   ],
   "source": [
    "import os\n",
    "from gen3_metadata.parser import Gen3MetadataParser\n",
    "\n",
    "api = \"https://data.test.biocommons.org.au\"\n",
    "key_file = os.getenv('credentials_path')\n",
    "gen3metadata = Gen3MetadataParser(api, key_file)\n",
    "\n",
    "\n",
    "gen3metadata.fetch_data(\"program1\", \"AusDiab_Simulated\", \"subject\")\n",
    "gen3metadata.fetch_data(\"program1\", \"AusDiab_Simulated\", \"demographic\")\n",
    "gen3metadata.fetch_data(\"program1\", \"AusDiab_Simulated\", \"medical_history\")\n",
    "\n",
    "gen3metadata.data_to_pd()"
   ]
  }
 ],
 "metadata": {
  "kernelspec": {
   "display_name": ".venv",
   "language": "python",
   "name": "python3"
  },
  "language_info": {
   "codemirror_mode": {
    "name": "ipython",
    "version": 3
   },
   "file_extension": ".py",
   "mimetype": "text/x-python",
   "name": "python",
   "nbconvert_exporter": "python",
   "pygments_lexer": "ipython3",
   "version": "3.9.5"
  }
 },
 "nbformat": 4,
 "nbformat_minor": 2
}
